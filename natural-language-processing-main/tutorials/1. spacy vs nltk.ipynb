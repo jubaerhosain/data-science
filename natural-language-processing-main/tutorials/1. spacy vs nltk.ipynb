{
 "cells": [
  {
   "cell_type": "code",
   "execution_count": 1,
   "metadata": {},
   "outputs": [
    {
     "name": "stderr",
     "output_type": "stream",
     "text": [
      "2023-08-24 19:27:29.933899: I tensorflow/core/util/port.cc:110] oneDNN custom operations are on. You may see slightly different numerical results due to floating-point round-off errors from different computation orders. To turn them off, set the environment variable `TF_ENABLE_ONEDNN_OPTS=0`.\n",
      "2023-08-24 19:27:29.935270: I tensorflow/tsl/cuda/cudart_stub.cc:28] Could not find cuda drivers on your machine, GPU will not be used.\n",
      "2023-08-24 19:27:29.963594: I tensorflow/tsl/cuda/cudart_stub.cc:28] Could not find cuda drivers on your machine, GPU will not be used.\n",
      "2023-08-24 19:27:29.964203: I tensorflow/core/platform/cpu_feature_guard.cc:182] This TensorFlow binary is optimized to use available CPU instructions in performance-critical operations.\n",
      "To enable the following instructions: AVX2 AVX512F AVX512_VNNI FMA, in other operations, rebuild TensorFlow with the appropriate compiler flags.\n",
      "2023-08-24 19:27:30.612869: W tensorflow/compiler/tf2tensorrt/utils/py_utils.cc:38] TF-TRT Warning: Could not find TensorRT\n",
      "2023-08-24 19:27:31.883134: E tensorflow/compiler/xla/stream_executor/cuda/cuda_driver.cc:266] failed call to cuInit: CUDA_ERROR_NO_DEVICE: no CUDA-capable device is detected\n"
     ]
    }
   ],
   "source": [
    "import spacy\n",
    "nlp = spacy.load(\"en_core_web_sm\")"
   ]
  },
  {
   "cell_type": "code",
   "execution_count": 2,
   "metadata": {},
   "outputs": [],
   "source": [
    "text = \"\"\"Software verification is the process of evaluating and checking whether the software being\n",
    "developed or modified correctly according to the specified requirements. Verification includes\n",
    "all the activities associated with producing high quality software, i.e.: testing, inspection, design\n",
    "analysis, specification analysis, and so on. In other words, it answers the question, \"Are we\n",
    "building the software right?\"\"\""
   ]
  },
  {
   "cell_type": "code",
   "execution_count": 3,
   "metadata": {},
   "outputs": [],
   "source": [
    "doc = nlp(text)"
   ]
  },
  {
   "cell_type": "code",
   "execution_count": 4,
   "metadata": {},
   "outputs": [
    {
     "data": {
      "text/plain": [
       "Software verification is the process of evaluating and checking whether the software being\n",
       "developed or modified correctly according to the specified requirements. Verification includes\n",
       "all the activities associated with producing high quality software, i.e.: testing, inspection, design\n",
       "analysis, specification analysis, and so on. In other words, it answers the question, \"Are we\n",
       "building the software right?"
      ]
     },
     "execution_count": 4,
     "metadata": {},
     "output_type": "execute_result"
    }
   ],
   "source": [
    "doc"
   ]
  },
  {
   "cell_type": "code",
   "execution_count": 5,
   "metadata": {},
   "outputs": [],
   "source": [
    "sentences = [sentence for sentence in doc.sents]\n"
   ]
  },
  {
   "cell_type": "code",
   "execution_count": 6,
   "metadata": {},
   "outputs": [
    {
     "data": {
      "text/plain": [
       "3"
      ]
     },
     "execution_count": 6,
     "metadata": {},
     "output_type": "execute_result"
    }
   ],
   "source": [
    "len(sentences)"
   ]
  },
  {
   "cell_type": "code",
   "execution_count": 7,
   "metadata": {},
   "outputs": [
    {
     "name": "stdout",
     "output_type": "stream",
     "text": [
      "Software verification is the process of evaluating and checking whether the software being\n",
      "developed or modified correctly according to the specified requirements. \n",
      "\n",
      "\n",
      "Verification includes\n",
      "all the activities associated with producing high quality software, i.e.: testing, inspection, design\n",
      "analysis, specification analysis, and so on. \n",
      "\n",
      "\n",
      "In other words, it answers the question, \"Are we\n",
      "building the software right? \n",
      "\n",
      "\n"
     ]
    }
   ],
   "source": [
    "for sentence in sentences:\n",
    "    print(sentence, \"\\n\\n\")"
   ]
  },
  {
   "cell_type": "code",
   "execution_count": 8,
   "metadata": {},
   "outputs": [
    {
     "name": "stdout",
     "output_type": "stream",
     "text": [
      "Software\n",
      "verification\n",
      "is\n",
      "the\n",
      "process\n",
      "of\n",
      "evaluating\n",
      "and\n",
      "checking\n",
      "whether\n",
      "the\n",
      "software\n",
      "being\n",
      "\n",
      "\n",
      "developed\n",
      "or\n",
      "modified\n",
      "correctly\n",
      "according\n",
      "to\n",
      "the\n",
      "specified\n",
      "requirements\n",
      ".\n",
      "Verification\n",
      "includes\n",
      "\n",
      "\n",
      "all\n",
      "the\n",
      "activities\n",
      "associated\n",
      "with\n",
      "producing\n",
      "high\n",
      "quality\n",
      "software\n",
      ",\n",
      "i.e.\n",
      ":\n",
      "testing\n",
      ",\n",
      "inspection\n",
      ",\n",
      "design\n",
      "\n",
      "\n",
      "analysis\n",
      ",\n",
      "specification\n",
      "analysis\n",
      ",\n",
      "and\n",
      "so\n",
      "on\n",
      ".\n",
      "In\n",
      "other\n",
      "words\n",
      ",\n",
      "it\n",
      "answers\n",
      "the\n",
      "question\n",
      ",\n",
      "\"\n",
      "Are\n",
      "we\n",
      "\n",
      "\n",
      "building\n",
      "the\n",
      "software\n",
      "right\n",
      "?\n"
     ]
    }
   ],
   "source": [
    "for sentence in sentences:\n",
    "    for word in sentence:\n",
    "        print(word)"
   ]
  },
  {
   "cell_type": "code",
   "execution_count": 18,
   "metadata": {},
   "outputs": [
    {
     "name": "stdout",
     "output_type": "stream",
     "text": [
      "Software NN\n",
      "verification NN\n",
      "is VBZ\n",
      "the DT\n",
      "process NN\n",
      "of IN\n",
      "evaluating VBG\n",
      "and CC\n",
      "checking VBG\n",
      "whether IN\n",
      "the DT\n",
      "software NN\n",
      "being VBG\n",
      "\n",
      " _SP\n",
      "developed VBN\n",
      "or CC\n",
      "modified VBN\n",
      "correctly RB\n",
      "according VBG\n",
      "to IN\n",
      "the DT\n",
      "specified VBN\n",
      "requirements NNS\n",
      ". .\n",
      "Verification NN\n",
      "includes VBZ\n",
      "\n",
      " _SP\n",
      "all PDT\n",
      "the DT\n",
      "activities NNS\n",
      "associated VBN\n",
      "with IN\n",
      "producing VBG\n",
      "high JJ\n",
      "quality NN\n",
      "software NN\n",
      ", ,\n",
      "i.e. FW\n",
      ": :\n",
      "testing NN\n",
      ", ,\n",
      "inspection NN\n",
      ", ,\n",
      "design NN\n",
      "\n",
      " _SP\n",
      "analysis NN\n",
      ", ,\n",
      "specification NN\n",
      "analysis NN\n",
      ", ,\n",
      "and CC\n",
      "so RB\n",
      "on RB\n",
      ". .\n",
      "In IN\n",
      "other JJ\n",
      "words NNS\n",
      ", ,\n",
      "it PRP\n",
      "answers VBZ\n",
      "the DT\n",
      "question NN\n",
      ", ,\n",
      "\" ``\n",
      "Are VBP\n",
      "we PRP\n",
      "\n",
      " _SP\n",
      "building VBG\n",
      "the DT\n",
      "software NN\n",
      "right JJ\n",
      "? .\n"
     ]
    }
   ],
   "source": [
    "for token in doc:\n",
    "    print(token, token.tag_)"
   ]
  },
  {
   "cell_type": "markdown",
   "metadata": {},
   "source": [
    "NLTk"
   ]
  },
  {
   "cell_type": "code",
   "execution_count": 9,
   "metadata": {},
   "outputs": [],
   "source": [
    "import nltk"
   ]
  },
  {
   "cell_type": "code",
   "execution_count": 10,
   "metadata": {},
   "outputs": [
    {
     "name": "stderr",
     "output_type": "stream",
     "text": [
      "[nltk_data] Downloading package punkt to /home/jubaer/nltk_data...\n",
      "[nltk_data]   Package punkt is already up-to-date!\n"
     ]
    },
    {
     "data": {
      "text/plain": [
       "True"
      ]
     },
     "execution_count": 10,
     "metadata": {},
     "output_type": "execute_result"
    }
   ],
   "source": [
    "nltk.download(\"punkt\")"
   ]
  },
  {
   "cell_type": "code",
   "execution_count": 11,
   "metadata": {},
   "outputs": [],
   "source": [
    "from nltk.tokenize import sent_tokenize"
   ]
  },
  {
   "cell_type": "code",
   "execution_count": 12,
   "metadata": {},
   "outputs": [],
   "source": [
    "sents = sent_tokenize(text)"
   ]
  },
  {
   "cell_type": "code",
   "execution_count": 13,
   "metadata": {},
   "outputs": [
    {
     "data": {
      "text/plain": [
       "4"
      ]
     },
     "execution_count": 13,
     "metadata": {},
     "output_type": "execute_result"
    }
   ],
   "source": [
    "len(sents)"
   ]
  },
  {
   "cell_type": "code",
   "execution_count": 14,
   "metadata": {},
   "outputs": [
    {
     "data": {
      "text/plain": [
       "['Software verification is the process of evaluating and checking whether the software being\\ndeveloped or modified correctly according to the specified requirements.',\n",
       " 'Verification includes\\nall the activities associated with producing high quality software, i.e.',\n",
       " ': testing, inspection, design\\nanalysis, specification analysis, and so on.',\n",
       " 'In other words, it answers the question, \"Are we\\nbuilding the software right?']"
      ]
     },
     "execution_count": 14,
     "metadata": {},
     "output_type": "execute_result"
    }
   ],
   "source": [
    "sents"
   ]
  },
  {
   "cell_type": "code",
   "execution_count": 15,
   "metadata": {},
   "outputs": [],
   "source": [
    "from nltk.tokenize import word_tokenize"
   ]
  },
  {
   "cell_type": "code",
   "execution_count": 16,
   "metadata": {},
   "outputs": [],
   "source": [
    "words = word_tokenize(text)"
   ]
  },
  {
   "cell_type": "code",
   "execution_count": 17,
   "metadata": {},
   "outputs": [
    {
     "data": {
      "text/plain": [
       "['Software',\n",
       " 'verification',\n",
       " 'is',\n",
       " 'the',\n",
       " 'process',\n",
       " 'of',\n",
       " 'evaluating',\n",
       " 'and',\n",
       " 'checking',\n",
       " 'whether',\n",
       " 'the',\n",
       " 'software',\n",
       " 'being',\n",
       " 'developed',\n",
       " 'or',\n",
       " 'modified',\n",
       " 'correctly',\n",
       " 'according',\n",
       " 'to',\n",
       " 'the',\n",
       " 'specified',\n",
       " 'requirements',\n",
       " '.',\n",
       " 'Verification',\n",
       " 'includes',\n",
       " 'all',\n",
       " 'the',\n",
       " 'activities',\n",
       " 'associated',\n",
       " 'with',\n",
       " 'producing',\n",
       " 'high',\n",
       " 'quality',\n",
       " 'software',\n",
       " ',',\n",
       " 'i.e',\n",
       " '.',\n",
       " ':',\n",
       " 'testing',\n",
       " ',',\n",
       " 'inspection',\n",
       " ',',\n",
       " 'design',\n",
       " 'analysis',\n",
       " ',',\n",
       " 'specification',\n",
       " 'analysis',\n",
       " ',',\n",
       " 'and',\n",
       " 'so',\n",
       " 'on',\n",
       " '.',\n",
       " 'In',\n",
       " 'other',\n",
       " 'words',\n",
       " ',',\n",
       " 'it',\n",
       " 'answers',\n",
       " 'the',\n",
       " 'question',\n",
       " ',',\n",
       " '``',\n",
       " 'Are',\n",
       " 'we',\n",
       " 'building',\n",
       " 'the',\n",
       " 'software',\n",
       " 'right',\n",
       " '?']"
      ]
     },
     "execution_count": 17,
     "metadata": {},
     "output_type": "execute_result"
    }
   ],
   "source": [
    "words"
   ]
  }
 ],
 "metadata": {
  "kernelspec": {
   "display_name": "Python 3",
   "language": "python",
   "name": "python3"
  },
  "language_info": {
   "codemirror_mode": {
    "name": "ipython",
    "version": 3
   },
   "file_extension": ".py",
   "mimetype": "text/x-python",
   "name": "python",
   "nbconvert_exporter": "python",
   "pygments_lexer": "ipython3",
   "version": "3.10.12"
  },
  "orig_nbformat": 4
 },
 "nbformat": 4,
 "nbformat_minor": 2
}
