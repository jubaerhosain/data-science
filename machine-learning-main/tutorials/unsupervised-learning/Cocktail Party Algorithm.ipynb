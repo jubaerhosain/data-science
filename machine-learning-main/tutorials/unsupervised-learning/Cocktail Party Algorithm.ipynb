{
 "cells": [
  {
   "cell_type": "code",
   "execution_count": 1,
   "metadata": {},
   "outputs": [
    {
     "name": "stdout",
     "output_type": "stream",
     "text": [
      "Correlation between s1 and recovered source 1: 0.96\n",
      "Correlation between s2 and recovered source 2: -0.98\n"
     ]
    },
    {
     "name": "stderr",
     "output_type": "stream",
     "text": [
      "/home/jubaer/.local/lib/python3.10/site-packages/sklearn/decomposition/_fastica.py:542: FutureWarning: Starting in v1.3, whiten='unit-variance' will be used by default.\n",
      "  warnings.warn(\n"
     ]
    }
   ],
   "source": [
    "import numpy as np\n",
    "from scipy import signal\n",
    "from sklearn.decomposition import FastICA\n",
    "\n",
    "# Create a mixed signal with two sources\n",
    "np.random.seed(0)\n",
    "n_samples = 2000\n",
    "time = np.linspace(0, 8, n_samples)\n",
    "s1 = np.sin(2 * time)  \n",
    "s2 = np.sign(np.sin(3 * time))\n",
    "S = np.c_[s1, s2]\n",
    "S += 0.2 * np.random.normal(size=S.shape)  # add noise\n",
    "S /= S.std(axis=0)  # standardize the data\n",
    "A = np.array([[0.5, 0.5], [0.3, 0.7]])  # mixing matrix\n",
    "X = np.dot(S, A.T)  # create the mixed signal\n",
    "\n",
    "# Apply the cocktail party algorithm to separate the sources\n",
    "ica = FastICA(n_components=2)\n",
    "S_hat = ica.fit_transform(X)\n",
    "\n",
    "# Compare the separated sources to the original sources\n",
    "corr1 = np.corrcoef(s1, S_hat[:, 0])[0, 1]\n",
    "corr2 = np.corrcoef(s2, S_hat[:, 1])[0, 1]\n",
    "print('Correlation between s1 and recovered source 1: {:.2f}'.format(corr1))\n",
    "print('Correlation between s2 and recovered source 2: {:.2f}'.format(corr2))\n"
   ]
  }
 ],
 "metadata": {
  "kernelspec": {
   "display_name": "Python 3",
   "language": "python",
   "name": "python3"
  },
  "language_info": {
   "codemirror_mode": {
    "name": "ipython",
    "version": 3
   },
   "file_extension": ".py",
   "mimetype": "text/x-python",
   "name": "python",
   "nbconvert_exporter": "python",
   "pygments_lexer": "ipython3",
   "version": "3.10.6"
  },
  "orig_nbformat": 4
 },
 "nbformat": 4,
 "nbformat_minor": 2
}
