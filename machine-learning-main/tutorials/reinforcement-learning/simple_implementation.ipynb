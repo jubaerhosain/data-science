{
 "cells": [
  {
   "cell_type": "code",
   "execution_count": 1,
   "metadata": {},
   "outputs": [],
   "source": [
    "import random\n",
    "from typing import List"
   ]
  },
  {
   "cell_type": "code",
   "execution_count": 2,
   "metadata": {},
   "outputs": [],
   "source": [
    "class SampleEnvironment:\n",
    "    def __init__(self):\n",
    "        self.steps_left = 20\n",
    "        \n",
    "    def get_observation(self) -> List[float]:\n",
    "        return [0.0, 0.0, 0.0]\n",
    "    \n",
    "    def get_action(self) -> List[int]:\n",
    "        return [0, 1]\n",
    "    \n",
    "    def is_done(self) -> bool:\n",
    "        return self.steps_left == 0\n",
    "    \n",
    "    def action(self, action: int) -> float:\n",
    "        if(self.is_done()):\n",
    "            raise  Exception('Game is over')\n",
    "        self.steps_left -= 1\n",
    "        return random.random()"
   ]
  },
  {
   "cell_type": "code",
   "execution_count": 3,
   "metadata": {},
   "outputs": [],
   "source": [
    "class Agent:\n",
    "    def __init__(self) :\n",
    "        self.total_reward = 0\n",
    "        \n",
    "    def step(self, env: SampleEnvironment):\n",
    "        current_obs = env.get_observation()\n",
    "        print(current_obs)\n",
    "        actions = env.get_action()\n",
    "        print(actions)\n",
    "        reward = env.action(random.choice(actions))\n",
    "        self.total_reward += reward"
   ]
  },
  {
   "cell_type": "code",
   "execution_count": 14,
   "metadata": {},
   "outputs": [
    {
     "name": "stdout",
     "output_type": "stream",
     "text": [
      "[0.0, 0.0, 0.0]\n",
      "[0, 1]\n",
      "[0.0, 0.0, 0.0]\n",
      "[0, 1]\n",
      "[0.0, 0.0, 0.0]\n",
      "[0, 1]\n",
      "[0.0, 0.0, 0.0]\n",
      "[0, 1]\n",
      "[0.0, 0.0, 0.0]\n",
      "[0, 1]\n",
      "[0.0, 0.0, 0.0]\n",
      "[0, 1]\n",
      "[0.0, 0.0, 0.0]\n",
      "[0, 1]\n",
      "[0.0, 0.0, 0.0]\n",
      "[0, 1]\n",
      "[0.0, 0.0, 0.0]\n",
      "[0, 1]\n",
      "[0.0, 0.0, 0.0]\n",
      "[0, 1]\n",
      "[0.0, 0.0, 0.0]\n",
      "[0, 1]\n",
      "[0.0, 0.0, 0.0]\n",
      "[0, 1]\n",
      "[0.0, 0.0, 0.0]\n",
      "[0, 1]\n",
      "[0.0, 0.0, 0.0]\n",
      "[0, 1]\n",
      "[0.0, 0.0, 0.0]\n",
      "[0, 1]\n",
      "[0.0, 0.0, 0.0]\n",
      "[0, 1]\n",
      "[0.0, 0.0, 0.0]\n",
      "[0, 1]\n",
      "[0.0, 0.0, 0.0]\n",
      "[0, 1]\n",
      "[0.0, 0.0, 0.0]\n",
      "[0, 1]\n",
      "[0.0, 0.0, 0.0]\n",
      "[0, 1]\n",
      "Total reward got: 12.1814\n"
     ]
    }
   ],
   "source": [
    "if __name__ == \"__main__\":\n",
    "    env = SampleEnvironment()\n",
    "    agent = Agent()\n",
    "    \n",
    "    while not env.is_done():\n",
    "        agent.step(env)\n",
    "        \n",
    "    print('Total reward got: %.4f' % agent.total_reward)"
   ]
  }
 ],
 "metadata": {
  "kernelspec": {
   "display_name": "Python 3",
   "language": "python",
   "name": "python3"
  },
  "language_info": {
   "codemirror_mode": {
    "name": "ipython",
    "version": 3
   },
   "file_extension": ".py",
   "mimetype": "text/x-python",
   "name": "python",
   "nbconvert_exporter": "python",
   "pygments_lexer": "ipython3",
   "version": "3.10.6"
  },
  "orig_nbformat": 4
 },
 "nbformat": 4,
 "nbformat_minor": 2
}
