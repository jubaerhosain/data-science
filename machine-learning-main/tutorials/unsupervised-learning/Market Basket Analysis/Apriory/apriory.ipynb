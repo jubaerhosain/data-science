{
 "cells": [
  {
   "cell_type": "code",
   "execution_count": 13,
   "metadata": {},
   "outputs": [
    {
     "name": "stdout",
     "output_type": "stream",
     "text": [
      "   item1  item2  item3  item4  item5\n",
      "0   True   True   True   True   True\n",
      "1  False   True   True  False  False\n",
      "2   True   True   True   True   True\n",
      "3   True  False  False  False   True\n",
      "4  False   True  False   True   True\n"
     ]
    }
   ],
   "source": [
    "import pandas as pd\n",
    "\n",
    "# create a sample dataset\n",
    "data = {'item1': [1, 0, 1, 1, 0], 'item2': [1, 1, 1, 0, 1], 'item3': [1, 1, 1, 0, 0], 'item4': [1, 0, 1, 0, 1], 'item5': [1, 0, 1, 1, 1]}\n",
    "df = pd.DataFrame(data)\n",
    "\n",
    "# convert the integer DataFrame to a boolean DataFrame\n",
    "bool_df = df.astype(bool)\n",
    "\n",
    "# print the boolean DataFrame\n",
    "print(bool_df)\n"
   ]
  },
  {
   "cell_type": "code",
   "execution_count": 19,
   "metadata": {},
   "outputs": [
    {
     "name": "stdout",
     "output_type": "stream",
     "text": [
      "    support               itemsets\n",
      "0       0.6                (item1)\n",
      "1       0.8                (item2)\n",
      "2       0.6                (item3)\n",
      "3       0.6                (item4)\n",
      "4       0.8                (item5)\n",
      "5       0.6         (item5, item1)\n",
      "6       0.6         (item3, item2)\n",
      "7       0.6         (item4, item2)\n",
      "8       0.6         (item5, item2)\n",
      "9       0.6         (item4, item5)\n",
      "10      0.6  (item4, item5, item2)\n"
     ]
    }
   ],
   "source": [
    "from mlxtend.frequent_patterns import apriori\n",
    "\n",
    "# generate frequent itemsets with a minimum support of 0.3\n",
    "frequent_itemsets = apriori(bool_df, min_support=0.5, use_colnames=True)\n",
    "\n",
    "# print the frequent itemsets\n",
    "print(frequent_itemsets)\n",
    "\n"
   ]
  },
  {
   "cell_type": "code",
   "execution_count": 20,
   "metadata": {},
   "outputs": [
    {
     "name": "stdout",
     "output_type": "stream",
     "text": [
      "       antecedents     consequents  antecedent support  consequent support  \\\n",
      "0          (item5)         (item1)                 0.8                 0.6   \n",
      "1          (item1)         (item5)                 0.6                 0.8   \n",
      "2          (item3)         (item2)                 0.6                 0.8   \n",
      "3          (item2)         (item3)                 0.8                 0.6   \n",
      "4          (item4)         (item2)                 0.6                 0.8   \n",
      "5          (item2)         (item4)                 0.8                 0.6   \n",
      "6          (item5)         (item2)                 0.8                 0.8   \n",
      "7          (item2)         (item5)                 0.8                 0.8   \n",
      "8          (item4)         (item5)                 0.6                 0.8   \n",
      "9          (item5)         (item4)                 0.8                 0.6   \n",
      "10  (item4, item5)         (item2)                 0.6                 0.8   \n",
      "11  (item4, item2)         (item5)                 0.6                 0.8   \n",
      "12  (item5, item2)         (item4)                 0.6                 0.6   \n",
      "13         (item4)  (item5, item2)                 0.6                 0.6   \n",
      "14         (item5)  (item4, item2)                 0.8                 0.6   \n",
      "15         (item2)  (item4, item5)                 0.8                 0.6   \n",
      "\n",
      "    support  confidence      lift  leverage  conviction  zhangs_metric  \n",
      "0       0.6        0.75  1.250000      0.12         1.6           1.00  \n",
      "1       0.6        1.00  1.250000      0.12         inf           0.50  \n",
      "2       0.6        1.00  1.250000      0.12         inf           0.50  \n",
      "3       0.6        0.75  1.250000      0.12         1.6           1.00  \n",
      "4       0.6        1.00  1.250000      0.12         inf           0.50  \n",
      "5       0.6        0.75  1.250000      0.12         1.6           1.00  \n",
      "6       0.6        0.75  0.937500     -0.04         0.8          -0.25  \n",
      "7       0.6        0.75  0.937500     -0.04         0.8          -0.25  \n",
      "8       0.6        1.00  1.250000      0.12         inf           0.50  \n",
      "9       0.6        0.75  1.250000      0.12         1.6           1.00  \n",
      "10      0.6        1.00  1.250000      0.12         inf           0.50  \n",
      "11      0.6        1.00  1.250000      0.12         inf           0.50  \n",
      "12      0.6        1.00  1.666667      0.24         inf           1.00  \n",
      "13      0.6        1.00  1.666667      0.24         inf           1.00  \n",
      "14      0.6        0.75  1.250000      0.12         1.6           1.00  \n",
      "15      0.6        0.75  1.250000      0.12         1.6           1.00  \n"
     ]
    }
   ],
   "source": [
    "from mlxtend.frequent_patterns import association_rules\n",
    "\n",
    "# generate association rules with a minimum confidence of 0.3\n",
    "rules = association_rules(frequent_itemsets, metric=\"confidence\", min_threshold=0.5)\n",
    "\n",
    "# print the association rules\n",
    "print(rules)\n"
   ]
  }
 ],
 "metadata": {
  "kernelspec": {
   "display_name": "Python 3",
   "language": "python",
   "name": "python3"
  },
  "language_info": {
   "codemirror_mode": {
    "name": "ipython",
    "version": 3
   },
   "file_extension": ".py",
   "mimetype": "text/x-python",
   "name": "python",
   "nbconvert_exporter": "python",
   "pygments_lexer": "ipython3",
   "version": "3.10.6"
  },
  "orig_nbformat": 4
 },
 "nbformat": 4,
 "nbformat_minor": 2
}
