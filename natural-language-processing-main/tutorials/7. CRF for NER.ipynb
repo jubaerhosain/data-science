{
 "cells": [
  {
   "cell_type": "markdown",
   "metadata": {},
   "source": [
    "Named Entity Recognition (NER) using Conditional Random Fields (CRFs) explained with example\n",
    "https://www.youtube.com/watch?v=3w0EhxiebUA"
   ]
  }
 ],
 "metadata": {
  "language_info": {
   "name": "python"
  },
  "orig_nbformat": 4
 },
 "nbformat": 4,
 "nbformat_minor": 2
}
